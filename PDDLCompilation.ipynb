{
 "cells": [
  {
   "cell_type": "code",
   "execution_count": 1,
   "id": "776570fd-81d5-4e14-bda9-0c9472b771e8",
   "metadata": {},
   "outputs": [],
   "source": [
    "import pddlgym\n",
    "import pddlparser, circuit"
   ]
  },
  {
   "cell_type": "code",
   "execution_count": 2,
   "id": "4d5a6889-5dc4-4d8f-b062-88d452d87556",
   "metadata": {},
   "outputs": [
    {
     "name": "stdout",
     "output_type": "stream",
     "text": [
      "Models are compatible!\n"
     ]
    }
   ],
   "source": [
    "domain_fname = \"cafeworld2.pddl\"\n",
    "problem_dir = \"cafeworld_problem/\"\n",
    "\n",
    "# Get the model for this domain and problem\n",
    "model1 = pddlparser.load_and_ground_pddl(domain_fname, problem_dir)\n",
    "model2 = pddlparser.load_and_ground_pddl(domain_fname, problem_dir)\n",
    "\n",
    "# Check if models are compatible; i.e., they have the same grounded predicates and actions (but each action has potentially different precondition or effect)\n",
    "if pddlparser.are_models_compatible(model1, model2):\n",
    "    print(\"Models are compatible!\")\n",
    "else:\n",
    "    print(\"WARNING: Models are not compatible!\")\n",
    "\n",
    "# Map predicates to circuit variables\n",
    "predicates_to_vars = {model1.predicates[i].pddl_str(): i for i in range(len(model1.predicates))}"
   ]
  },
  {
   "cell_type": "code",
   "execution_count": 3,
   "id": "6aee3d94-e996-4f98-9344-e2c3161031cf",
   "metadata": {},
   "outputs": [],
   "source": [
    "# Takes initial state distribution, a list of PPDDL actions, and a model, and returns the final PC representing state distribution\n",
    "def apply_action_sequence(initial_pc, action_sequence, model, predicates_to_vars, verbose=True):\n",
    "    final_pc = initial_pc.copy()\n",
    "    for t, a in enumerate(action_sequence):\n",
    "        if verbose:\n",
    "            print(f\"Timestep t={t + 1}, action {a}\")\n",
    "        precondition = model.preconditions[a]\n",
    "        effect = model.effects[a]\n",
    "\n",
    "        final_pc = circuit.update_pc_with_action(final_pc, precondition, effect, predicates_to_vars)\n",
    "    return final_pc"
   ]
  },
  {
   "cell_type": "code",
   "execution_count": 21,
   "id": "4e6fe7c9-0e11-43c9-9e75-2379eedb426b",
   "metadata": {},
   "outputs": [],
   "source": [
    "# We just want to initialize a distribution where the precondition holds for an action\n",
    "action1 = 1\n",
    "\n",
    "precondition1 = model1.preconditions[model1.actions[action1]]\n",
    "effect1 = model1.effects[model1.actions[action1]]\n",
    "\n",
    "action2 = 7\n",
    "\n",
    "precondition2 = model1.preconditions[model1.actions[action2]]\n",
    "effect2 = model1.effects[model1.actions[action2]]"
   ]
  },
  {
   "cell_type": "code",
   "execution_count": 22,
   "id": "b4ac0a8e-0a3e-4e7a-95f2-acbc0e2b7cfe",
   "metadata": {},
   "outputs": [
    {
     "data": {
      "text/plain": [
       "PROBABILISTIC[(AND[Antiempty(gripper:manipulator), ingripper(canred:can,gripper:manipulator), Antiorder(canred:can,tablered:location)], 0.8), (AND[empty(gripper:manipulator)], 0.2), (NOCHANGE(), 0.0), (NOCHANGE(), 0.0)]"
      ]
     },
     "execution_count": 22,
     "metadata": {},
     "output_type": "execute_result"
    }
   ],
   "source": [
    "effect2"
   ]
  },
  {
   "cell_type": "code",
   "execution_count": 23,
   "id": "7dfe3794-88c1-41ef-a762-ca8206a19158",
   "metadata": {},
   "outputs": [],
   "source": [
    "initial_state_1 = circuit.initial_state_pc({p.pddl_str(): True for p in precondition1.literals}, predicates_to_vars)\n",
    "initial_state_2 = circuit.initial_state_pc({p.pddl_str(): True for p in precondition2.literals}, predicates_to_vars)"
   ]
  },
  {
   "cell_type": "code",
   "execution_count": 24,
   "id": "e1ef6260-1eb0-4d6b-9d87-1280bf16f012",
   "metadata": {},
   "outputs": [
    {
     "data": {
      "text/plain": [
       "True"
      ]
     },
     "execution_count": 24,
     "metadata": {},
     "output_type": "execute_result"
    }
   ],
   "source": [
    "circuit.precondition_holds(initial_state_2, precondition2, predicates_to_vars)"
   ]
  },
  {
   "cell_type": "code",
   "execution_count": 25,
   "id": "0ecaa2bb-defd-47c4-88d8-53f0d0f5bd23",
   "metadata": {
    "scrolled": true
   },
   "outputs": [
    {
     "name": "stdout",
     "output_type": "stream",
     "text": [
      "Timestep t=1, action grasp(gripper:manipulator,counter:location,canred:can,fetch:robot)\n",
      "Timestep t=2, action put(gripper:manipulator,tablered:location,canred:can,fetch:robot)\n",
      "Timestep t=3, action move(tablered:location,counter:location,fetch:robot)\n",
      "Timestep t=4, action teleport(tablered:location,fetch:robot)\n",
      "Timestep t=5, action grasp(gripper:manipulator,counter:location,canred:can,fetch:robot)\n",
      "Timestep t=6, action put(gripper:manipulator,tablered:location,canred:can,fetch:robot)\n",
      "Timestep t=7, action move(tablered:location,counter:location,fetch:robot)\n",
      "Timestep t=8, action teleport(tablered:location,fetch:robot)\n",
      "Timestep t=9, action grasp(gripper:manipulator,counter:location,canred:can,fetch:robot)\n",
      "Timestep t=10, action put(gripper:manipulator,tablered:location,canred:can,fetch:robot)\n",
      "Timestep t=11, action move(tablered:location,counter:location,fetch:robot)\n",
      "Timestep t=12, action teleport(tablered:location,fetch:robot)\n",
      "Timestep t=1, action grasp(gripper:manipulator,tablered:location,canred:can,fetch:robot)\n",
      "Timestep t=2, action teleport(counter:location,fetch:robot)\n",
      "Timestep t=3, action move(counter:location,tablered:location,fetch:robot)\n",
      "Timestep t=4, action teleport(tablered:location,fetch:robot)\n",
      "Timestep t=5, action grasp(gripper:manipulator,tablered:location,canred:can,fetch:robot)\n",
      "Timestep t=6, action teleport(counter:location,fetch:robot)\n",
      "Timestep t=7, action move(counter:location,tablered:location,fetch:robot)\n",
      "Timestep t=8, action teleport(tablered:location,fetch:robot)\n",
      "Timestep t=9, action grasp(gripper:manipulator,tablered:location,canred:can,fetch:robot)\n",
      "Timestep t=10, action teleport(counter:location,fetch:robot)\n",
      "Timestep t=11, action move(counter:location,tablered:location,fetch:robot)\n",
      "Timestep t=12, action teleport(tablered:location,fetch:robot)\n"
     ]
    }
   ],
   "source": [
    "u1 = apply_action_sequence(initial_state_1, [model1.actions[action1], model1.actions[2], model1.actions[3], model1.actions[4]] * 3, model1, predicates_to_vars)\n",
    "u2 = apply_action_sequence(initial_state_2, [model2.actions[action2], model2.actions[5], model2.actions[6], model2.actions[4]] * 3, model2, predicates_to_vars)"
   ]
  },
  {
   "cell_type": "code",
   "execution_count": 29,
   "id": "acba3c23-a286-46b5-9633-fa72f1e79b6a",
   "metadata": {
    "scrolled": true
   },
   "outputs": [
    {
     "name": "stdout",
     "output_type": "stream",
     "text": [
      "Distance of 5.117721569689601 computed in 7.394667625427246 seconds!\n"
     ]
    }
   ],
   "source": [
    "import time\n",
    "\n",
    "start = time.time()\n",
    "dist = circuit.cw_dist(u1, u2)\n",
    "end = time.time()\n",
    "print(f\"Distance of {dist} computed in {end - start} seconds!\")"
   ]
  },
  {
   "cell_type": "code",
   "execution_count": 30,
   "id": "85997761-70e8-4c89-8a04-9e600a9aefd4",
   "metadata": {},
   "outputs": [
    {
     "data": {
      "text/plain": [
       "2221"
      ]
     },
     "execution_count": 30,
     "metadata": {},
     "output_type": "execute_result"
    }
   ],
   "source": [
    "u2.size()"
   ]
  },
  {
   "cell_type": "code",
   "execution_count": 31,
   "id": "42e79466-faeb-4fb5-b840-6b8accaea8f6",
   "metadata": {},
   "outputs": [
    {
     "data": {
      "text/plain": [
       "{0: 1, 1: 0, 2: 1, 3: 0, 4: 0, 5: 1, 6: 0, 7: 1}"
      ]
     },
     "execution_count": 31,
     "metadata": {},
     "output_type": "execute_result"
    }
   ],
   "source": [
    "# Get the (approximate) most likely satisfying assignment for u1\n",
    "u1.map()"
   ]
  },
  {
   "cell_type": "code",
   "execution_count": 32,
   "id": "de168fae-35e7-49d6-9397-3a9f02d85c0d",
   "metadata": {},
   "outputs": [
    {
     "data": {
      "text/plain": [
       "2203"
      ]
     },
     "execution_count": 32,
     "metadata": {},
     "output_type": "execute_result"
    }
   ],
   "source": [
    "u1.size()"
   ]
  },
  {
   "cell_type": "code",
   "execution_count": null,
   "id": "888ef91f-9c69-460e-812d-ec40b2440272",
   "metadata": {},
   "outputs": [],
   "source": []
  }
 ],
 "metadata": {
  "kernelspec": {
   "display_name": "Python 3 (ipykernel)",
   "language": "python",
   "name": "python3"
  },
  "language_info": {
   "codemirror_mode": {
    "name": "ipython",
    "version": 3
   },
   "file_extension": ".py",
   "mimetype": "text/x-python",
   "name": "python",
   "nbconvert_exporter": "python",
   "pygments_lexer": "ipython3",
   "version": "3.11.11"
  }
 },
 "nbformat": 4,
 "nbformat_minor": 5
}
