{
 "cells": [
  {
   "cell_type": "code",
   "execution_count": 1,
   "id": "776570fd-81d5-4e14-bda9-0c9472b771e8",
   "metadata": {},
   "outputs": [],
   "source": [
    "import pddlgym\n",
    "import pddlparser, circuit"
   ]
  },
  {
   "cell_type": "code",
   "execution_count": 2,
   "id": "4d5a6889-5dc4-4d8f-b062-88d452d87556",
   "metadata": {},
   "outputs": [
    {
     "name": "stdout",
     "output_type": "stream",
     "text": [
      "Models are compatible!\n"
     ]
    }
   ],
   "source": [
    "domain_fname = \"cafeworld2.pddl\"\n",
    "problem_dir = \"cafeworld_problem/\"\n",
    "\n",
    "# Get the model for this domain and problem\n",
    "model1 = pddlparser.load_and_ground_pddl(domain_fname, problem_dir)\n",
    "model2 = pddlparser.load_and_ground_pddl(domain_fname, problem_dir)\n",
    "\n",
    "# Check if models are compatible; i.e., they have the same grounded predicates and actions (but each action has potentially different precondition or effect)\n",
    "if pddlparser.are_models_compatible(model1, model2):\n",
    "    print(\"Models are compatible!\")\n",
    "else:\n",
    "    print(\"WARNING: Models are not compatible!\")\n",
    "\n",
    "# Map predicates to circuit variables\n",
    "predicates_to_vars = {model1.predicates[i].pddl_str(): i for i in range(len(model1.predicates))}"
   ]
  },
  {
   "cell_type": "code",
   "execution_count": 3,
   "id": "6aee3d94-e996-4f98-9344-e2c3161031cf",
   "metadata": {},
   "outputs": [],
   "source": [
    "# Takes initial state distribution, a list of PPDDL actions, and a model, and returns the final PC representing state distribution\n",
    "def apply_action_sequence(initial_pc, action_sequence, model, predicates_to_vars, verbose=True):\n",
    "    final_pc = initial_pc.copy()\n",
    "    for t, a in enumerate(action_sequence):\n",
    "        if verbose:\n",
    "            print(f\"Timestep t={t + 1}, action {a}\")\n",
    "        precondition = model.preconditions[a]\n",
    "        effect = model.effects[a]\n",
    "\n",
    "        final_pc = circuit.update_pc_with_action(final_pc, precondition, effect, predicates_to_vars)\n",
    "    return final_pc"
   ]
  },
  {
   "cell_type": "code",
   "execution_count": 25,
   "id": "4e6fe7c9-0e11-43c9-9e75-2379eedb426b",
   "metadata": {},
   "outputs": [],
   "source": [
    "# We just want to initialize a distribution where the precondition holds for an action\n",
    "action1 = 3\n",
    "\n",
    "precondition1 = model1.preconditions[model1.actions[action1]]\n",
    "effect1 = model1.effects[model1.actions[action1]]\n",
    "\n",
    "action2 = 0\n",
    "\n",
    "precondition2 = model1.preconditions[model1.actions[action2]]\n",
    "effect2 = model1.effects[model1.actions[action2]]"
   ]
  },
  {
   "cell_type": "code",
   "execution_count": 27,
   "id": "7dfe3794-88c1-41ef-a762-ca8206a19158",
   "metadata": {},
   "outputs": [],
   "source": [
    "initial_state_1 = circuit.initial_state_pc({p.pddl_str(): True for p in precondition1.literals}, predicates_to_vars)\n",
    "initial_state_2 = circuit.initial_state_pc({p.pddl_str(): True for p in precondition2.literals}, predicates_to_vars)"
   ]
  },
  {
   "cell_type": "code",
   "execution_count": 28,
   "id": "e1ef6260-1eb0-4d6b-9d87-1280bf16f012",
   "metadata": {},
   "outputs": [
    {
     "data": {
      "text/plain": [
       "True"
      ]
     },
     "execution_count": 28,
     "metadata": {},
     "output_type": "execute_result"
    }
   ],
   "source": [
    "circuit.precondition_holds(initial_state_2, precondition2, predicates_to_vars)"
   ]
  },
  {
   "cell_type": "code",
   "execution_count": 29,
   "id": "0ecaa2bb-defd-47c4-88d8-53f0d0f5bd23",
   "metadata": {
    "scrolled": true
   },
   "outputs": [
    {
     "name": "stdout",
     "output_type": "stream",
     "text": [
      "Timestep t=1, action grasp(gripper:manipulator,counter:location,canred:can,fetch:robot)\n",
      "Timestep t=2, action move(tablered:location,counter:location,fetch:robot)\n",
      "Timestep t=3, action grasp(gripper:manipulator,counter:location,canred:can,fetch:robot)\n",
      "Timestep t=4, action teleport(tablered:location,fetch:robot)\n",
      "Timestep t=5, action grasp(gripper:manipulator,counter:location,canred:can,fetch:robot)\n",
      "Timestep t=6, action move(tablered:location,counter:location,fetch:robot)\n",
      "Timestep t=7, action grasp(gripper:manipulator,counter:location,canred:can,fetch:robot)\n",
      "Timestep t=8, action teleport(tablered:location,fetch:robot)\n",
      "Timestep t=9, action grasp(gripper:manipulator,counter:location,canred:can,fetch:robot)\n",
      "Timestep t=10, action move(tablered:location,counter:location,fetch:robot)\n",
      "Timestep t=11, action grasp(gripper:manipulator,counter:location,canred:can,fetch:robot)\n",
      "Timestep t=12, action teleport(tablered:location,fetch:robot)\n",
      "Timestep t=1, action grasp(gripper:manipulator,tablered:location,canred:can,fetch:robot)\n",
      "Timestep t=2, action put(gripper:manipulator,tablered:location,canred:can,fetch:robot)\n",
      "Timestep t=3, action put(gripper:manipulator,counter:location,canred:can,fetch:robot)\n",
      "Timestep t=4, action teleport(tablered:location,fetch:robot)\n",
      "Timestep t=5, action grasp(gripper:manipulator,tablered:location,canred:can,fetch:robot)\n",
      "Timestep t=6, action put(gripper:manipulator,tablered:location,canred:can,fetch:robot)\n",
      "Timestep t=7, action put(gripper:manipulator,counter:location,canred:can,fetch:robot)\n",
      "Timestep t=8, action teleport(tablered:location,fetch:robot)\n",
      "Timestep t=9, action grasp(gripper:manipulator,tablered:location,canred:can,fetch:robot)\n",
      "Timestep t=10, action put(gripper:manipulator,tablered:location,canred:can,fetch:robot)\n",
      "Timestep t=11, action put(gripper:manipulator,counter:location,canred:can,fetch:robot)\n",
      "Timestep t=12, action teleport(tablered:location,fetch:robot)\n"
     ]
    }
   ],
   "source": [
    "u1 = apply_action_sequence(initial_state_1, [model1.actions[action1], model1.actions[2], model1.actions[3], model1.actions[4]] * 3, model1, predicates_to_vars)\n",
    "u2 = apply_action_sequence(initial_state_2, [model2.actions[action2], model2.actions[5], model2.actions[6], model2.actions[4]] * 3, model2, predicates_to_vars)"
   ]
  },
  {
   "cell_type": "code",
   "execution_count": 30,
   "id": "acba3c23-a286-46b5-9633-fa72f1e79b6a",
   "metadata": {
    "scrolled": true
   },
   "outputs": [
    {
     "ename": "KeyboardInterrupt",
     "evalue": "",
     "output_type": "error",
     "traceback": [
      "\u001b[31m---------------------------------------------------------------------------\u001b[39m",
      "\u001b[31mKeyboardInterrupt\u001b[39m                         Traceback (most recent call last)",
      "\u001b[36mCell\u001b[39m\u001b[36m \u001b[39m\u001b[32mIn[30]\u001b[39m\u001b[32m, line 4\u001b[39m\n\u001b[32m      1\u001b[39m \u001b[38;5;28;01mimport\u001b[39;00m\u001b[38;5;250m \u001b[39m\u001b[34;01mtime\u001b[39;00m\n\u001b[32m      3\u001b[39m start = time.time()\n\u001b[32m----> \u001b[39m\u001b[32m4\u001b[39m dist = circuit.cw_dist(u1, u2)\n\u001b[32m      5\u001b[39m end = time.time()\n\u001b[32m      6\u001b[39m \u001b[38;5;28mprint\u001b[39m(\u001b[33mf\u001b[39m\u001b[33m\"\u001b[39m\u001b[33mDistance of \u001b[39m\u001b[38;5;132;01m{\u001b[39;00mdist\u001b[38;5;132;01m}\u001b[39;00m\u001b[33m computed in \u001b[39m\u001b[38;5;132;01m{\u001b[39;00mend\u001b[38;5;250m \u001b[39m-\u001b[38;5;250m \u001b[39mstart\u001b[38;5;132;01m}\u001b[39;00m\u001b[33m seconds!\u001b[39m\u001b[33m\"\u001b[39m)\n",
      "\u001b[36mFile \u001b[39m\u001b[32m~\\Desktop\\Research\\ppddl_distance\\external\\PDDLtoPC\\circuit.py:297\u001b[39m, in \u001b[36mcw_dist\u001b[39m\u001b[34m(pc1, pc2, model)\u001b[39m\n\u001b[32m    295\u001b[39m     r = []\n\u001b[32m    296\u001b[39m     \u001b[38;5;28;01mfor\u001b[39;00m j, c2 \u001b[38;5;129;01min\u001b[39;00m \u001b[38;5;28menumerate\u001b[39m(pc2.children):\n\u001b[32m--> \u001b[39m\u001b[32m297\u001b[39m         r.append(cw_dist(c1, c2, model=model))\n\u001b[32m    298\u001b[39m     costs.append(r)\n\u001b[32m    299\u001b[39m supply = pc1.params\n",
      "\u001b[36mFile \u001b[39m\u001b[32m~\\Desktop\\Research\\ppddl_distance\\external\\PDDLtoPC\\circuit.py:297\u001b[39m, in \u001b[36mcw_dist\u001b[39m\u001b[34m(pc1, pc2, model)\u001b[39m\n\u001b[32m    295\u001b[39m     r = []\n\u001b[32m    296\u001b[39m     \u001b[38;5;28;01mfor\u001b[39;00m j, c2 \u001b[38;5;129;01min\u001b[39;00m \u001b[38;5;28menumerate\u001b[39m(pc2.children):\n\u001b[32m--> \u001b[39m\u001b[32m297\u001b[39m         r.append(cw_dist(c1, c2, model=model))\n\u001b[32m    298\u001b[39m     costs.append(r)\n\u001b[32m    299\u001b[39m supply = pc1.params\n",
      "    \u001b[31m[... skipping similar frames: cw_dist at line 297 (1 times)]\u001b[39m\n",
      "\u001b[36mFile \u001b[39m\u001b[32m~\\Desktop\\Research\\ppddl_distance\\external\\PDDLtoPC\\circuit.py:297\u001b[39m, in \u001b[36mcw_dist\u001b[39m\u001b[34m(pc1, pc2, model)\u001b[39m\n\u001b[32m    295\u001b[39m     r = []\n\u001b[32m    296\u001b[39m     \u001b[38;5;28;01mfor\u001b[39;00m j, c2 \u001b[38;5;129;01min\u001b[39;00m \u001b[38;5;28menumerate\u001b[39m(pc2.children):\n\u001b[32m--> \u001b[39m\u001b[32m297\u001b[39m         r.append(cw_dist(c1, c2, model=model))\n\u001b[32m    298\u001b[39m     costs.append(r)\n\u001b[32m    299\u001b[39m supply = pc1.params\n",
      "\u001b[36mFile \u001b[39m\u001b[32m~\\Desktop\\Research\\ppddl_distance\\external\\PDDLtoPC\\circuit.py:282\u001b[39m, in \u001b[36mcw_dist\u001b[39m\u001b[34m(pc1, pc2, model)\u001b[39m\n\u001b[32m    280\u001b[39m     cw_val = \u001b[32m0\u001b[39m\n\u001b[32m    281\u001b[39m     \u001b[38;5;28;01mfor\u001b[39;00m i, c1 \u001b[38;5;129;01min\u001b[39;00m \u001b[38;5;28menumerate\u001b[39m(pc1.children):\n\u001b[32m--> \u001b[39m\u001b[32m282\u001b[39m         cw_val += pc1.params[i] * cw_dist(c1, pc2.children[\u001b[32m0\u001b[39m], model=model)\n\u001b[32m    284\u001b[39m     \u001b[38;5;28;01mreturn\u001b[39;00m cw_val\n\u001b[32m    285\u001b[39m \u001b[38;5;28;01mif\u001b[39;00m \u001b[38;5;28mlen\u001b[39m(pc1.children) == \u001b[32m1\u001b[39m:\n",
      "\u001b[36mFile \u001b[39m\u001b[32m~\\Desktop\\Research\\ppddl_distance\\external\\PDDLtoPC\\circuit.py:297\u001b[39m, in \u001b[36mcw_dist\u001b[39m\u001b[34m(pc1, pc2, model)\u001b[39m\n\u001b[32m    295\u001b[39m     r = []\n\u001b[32m    296\u001b[39m     \u001b[38;5;28;01mfor\u001b[39;00m j, c2 \u001b[38;5;129;01min\u001b[39;00m \u001b[38;5;28menumerate\u001b[39m(pc2.children):\n\u001b[32m--> \u001b[39m\u001b[32m297\u001b[39m         r.append(cw_dist(c1, c2, model=model))\n\u001b[32m    298\u001b[39m     costs.append(r)\n\u001b[32m    299\u001b[39m supply = pc1.params\n",
      "\u001b[36mFile \u001b[39m\u001b[32m~\\Desktop\\Research\\ppddl_distance\\external\\PDDLtoPC\\circuit.py:288\u001b[39m, in \u001b[36mcw_dist\u001b[39m\u001b[34m(pc1, pc2, model)\u001b[39m\n\u001b[32m    286\u001b[39m     cw_val = \u001b[32m0\u001b[39m\n\u001b[32m    287\u001b[39m     \u001b[38;5;28;01mfor\u001b[39;00m j, c2 \u001b[38;5;129;01min\u001b[39;00m \u001b[38;5;28menumerate\u001b[39m(pc2.children):\n\u001b[32m--> \u001b[39m\u001b[32m288\u001b[39m         cw_val += pc2.params[j] * cw_dist(pc1.children[\u001b[32m0\u001b[39m], c2, model=model)\n\u001b[32m    290\u001b[39m     \u001b[38;5;28;01mreturn\u001b[39;00m cw_val\n\u001b[32m    292\u001b[39m \u001b[38;5;66;03m# Transport costs\u001b[39;00m\n",
      "\u001b[36mFile \u001b[39m\u001b[32m~\\Desktop\\Research\\ppddl_distance\\external\\PDDLtoPC\\circuit.py:297\u001b[39m, in \u001b[36mcw_dist\u001b[39m\u001b[34m(pc1, pc2, model)\u001b[39m\n\u001b[32m    295\u001b[39m     r = []\n\u001b[32m    296\u001b[39m     \u001b[38;5;28;01mfor\u001b[39;00m j, c2 \u001b[38;5;129;01min\u001b[39;00m \u001b[38;5;28menumerate\u001b[39m(pc2.children):\n\u001b[32m--> \u001b[39m\u001b[32m297\u001b[39m         r.append(cw_dist(c1, c2, model=model))\n\u001b[32m    298\u001b[39m     costs.append(r)\n\u001b[32m    299\u001b[39m supply = pc1.params\n",
      "\u001b[36mFile \u001b[39m\u001b[32m~\\Desktop\\Research\\ppddl_distance\\external\\PDDLtoPC\\circuit.py:282\u001b[39m, in \u001b[36mcw_dist\u001b[39m\u001b[34m(pc1, pc2, model)\u001b[39m\n\u001b[32m    280\u001b[39m     cw_val = \u001b[32m0\u001b[39m\n\u001b[32m    281\u001b[39m     \u001b[38;5;28;01mfor\u001b[39;00m i, c1 \u001b[38;5;129;01min\u001b[39;00m \u001b[38;5;28menumerate\u001b[39m(pc1.children):\n\u001b[32m--> \u001b[39m\u001b[32m282\u001b[39m         cw_val += pc1.params[i] * cw_dist(c1, pc2.children[\u001b[32m0\u001b[39m], model=model)\n\u001b[32m    284\u001b[39m     \u001b[38;5;28;01mreturn\u001b[39;00m cw_val\n\u001b[32m    285\u001b[39m \u001b[38;5;28;01mif\u001b[39;00m \u001b[38;5;28mlen\u001b[39m(pc1.children) == \u001b[32m1\u001b[39m:\n",
      "\u001b[36mFile \u001b[39m\u001b[32m~\\Desktop\\Research\\ppddl_distance\\external\\PDDLtoPC\\circuit.py:302\u001b[39m, in \u001b[36mcw_dist\u001b[39m\u001b[34m(pc1, pc2, model)\u001b[39m\n\u001b[32m    299\u001b[39m     supply = pc1.params\n\u001b[32m    300\u001b[39m     demand = pc2.params\n\u001b[32m--> \u001b[39m\u001b[32m302\u001b[39m     result = solve_transportation_problem_new(costs, supply, demand, model=model)\n\u001b[32m    304\u001b[39m     \u001b[38;5;28;01mreturn\u001b[39;00m result\n\u001b[32m    306\u001b[39m \u001b[38;5;66;03m# If pc1 and pc2 are products\u001b[39;00m\n",
      "\u001b[36mFile \u001b[39m\u001b[32m~\\Desktop\\Research\\ppddl_distance\\external\\PDDLtoPC\\circuit.py:264\u001b[39m, in \u001b[36msolve_transportation_problem_new\u001b[39m\u001b[34m(costs, supply, demand, model)\u001b[39m\n\u001b[32m    258\u001b[39m     model.addConstr(\n\u001b[32m    259\u001b[39m         \u001b[38;5;28msum\u001b[39m(x[i,j] \u001b[38;5;28;01mfor\u001b[39;00m i \u001b[38;5;129;01min\u001b[39;00m \u001b[38;5;28mrange\u001b[39m(\u001b[38;5;28mlen\u001b[39m(supply))) >= demand[j],\n\u001b[32m    260\u001b[39m         name=\u001b[33mf\u001b[39m\u001b[33m\"\u001b[39m\u001b[33mDemand_\u001b[39m\u001b[38;5;132;01m{\u001b[39;00mj\u001b[38;5;132;01m}\u001b[39;00m\u001b[33m\"\u001b[39m\n\u001b[32m    261\u001b[39m     )\n\u001b[32m    263\u001b[39m \u001b[38;5;66;03m# Optimize\u001b[39;00m\n\u001b[32m--> \u001b[39m\u001b[32m264\u001b[39m model.optimize()\n\u001b[32m    266\u001b[39m v = model.objVal\n\u001b[32m    267\u001b[39m \u001b[38;5;28;01mreturn\u001b[39;00m v\n",
      "\u001b[31mKeyboardInterrupt\u001b[39m: "
     ]
    }
   ],
   "source": [
    "import time\n",
    "\n",
    "start = time.time()\n",
    "dist = circuit.cw_dist(u1, u2)\n",
    "end = time.time()\n",
    "print(f\"Distance of {dist} computed in {end - start} seconds!\")"
   ]
  },
  {
   "cell_type": "code",
   "execution_count": 31,
   "id": "f530e2d9-ed8a-454e-8264-18e3df5dde0c",
   "metadata": {},
   "outputs": [
    {
     "data": {
      "text/plain": [
       "29347"
      ]
     },
     "execution_count": 31,
     "metadata": {},
     "output_type": "execute_result"
    }
   ],
   "source": [
    "u1.size()"
   ]
  },
  {
   "cell_type": "code",
   "execution_count": 32,
   "id": "65801b15-36a1-4a71-8557-696ee9279768",
   "metadata": {},
   "outputs": [
    {
     "data": {
      "text/plain": [
       "4433"
      ]
     },
     "execution_count": 32,
     "metadata": {},
     "output_type": "execute_result"
    }
   ],
   "source": [
    "u2.size()"
   ]
  },
  {
   "cell_type": "code",
   "execution_count": 33,
   "id": "de168fae-35e7-49d6-9397-3a9f02d85c0d",
   "metadata": {
    "scrolled": true
   },
   "outputs": [
    {
     "name": "stdout",
     "output_type": "stream",
     "text": [
      "Lower-bound TV distance of 0.7949905155801774 in 1.6690647602081299 seconds!\n"
     ]
    }
   ],
   "source": [
    "start = time.time()\n",
    "tv_dist, tv_assign = circuit.approximate_tv(u1, u2)\n",
    "end = time.time()\n",
    "\n",
    "print(f\"Lower-bound TV distance of {tv_dist} in {end - start} seconds!\")"
   ]
  },
  {
   "cell_type": "code",
   "execution_count": 34,
   "id": "4cc18495-b8d2-4c6a-a0f3-5bb48acca4d1",
   "metadata": {},
   "outputs": [
    {
     "data": {
      "text/plain": [
       "{3: 1, 6: 0, 5: 1, 4: 0, 2: 0, 0: 1, 7: 1, 1: 0}"
      ]
     },
     "execution_count": 34,
     "metadata": {},
     "output_type": "execute_result"
    }
   ],
   "source": [
    "tv_assign"
   ]
  },
  {
   "cell_type": "code",
   "execution_count": 35,
   "id": "1dd91c09-6f14-464d-8640-6c573caf97bc",
   "metadata": {},
   "outputs": [
    {
     "data": {
      "text/plain": [
       "0.0"
      ]
     },
     "execution_count": 35,
     "metadata": {},
     "output_type": "execute_result"
    }
   ],
   "source": [
    "u1.forward(tv_assign)"
   ]
  },
  {
   "cell_type": "code",
   "execution_count": 36,
   "id": "28ef4e8f-8c34-402f-9fed-c64bcc324efb",
   "metadata": {},
   "outputs": [
    {
     "data": {
      "text/plain": [
       "0.7949905155801774"
      ]
     },
     "execution_count": 36,
     "metadata": {},
     "output_type": "execute_result"
    }
   ],
   "source": [
    "u2.forward(tv_assign)"
   ]
  },
  {
   "cell_type": "code",
   "execution_count": null,
   "id": "bdd93e3c-2ef3-4441-b5c4-f23ae4b2d251",
   "metadata": {},
   "outputs": [],
   "source": []
  }
 ],
 "metadata": {
  "kernelspec": {
   "display_name": "Python 3 (ipykernel)",
   "language": "python",
   "name": "python3"
  },
  "language_info": {
   "codemirror_mode": {
    "name": "ipython",
    "version": 3
   },
   "file_extension": ".py",
   "mimetype": "text/x-python",
   "name": "python",
   "nbconvert_exporter": "python",
   "pygments_lexer": "ipython3",
   "version": "3.11.11"
  }
 },
 "nbformat": 4,
 "nbformat_minor": 5
}
